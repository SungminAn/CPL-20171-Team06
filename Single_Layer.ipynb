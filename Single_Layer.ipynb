{
 "cells": [
  {
   "cell_type": "markdown",
   "metadata": {},
   "source": [
    "# Single Layer"
   ]
  },
  {
   "cell_type": "code",
   "execution_count": 1,
   "metadata": {
    "collapsed": false
   },
   "outputs": [],
   "source": [
    "#-*- coding: utf-8 -*-\n",
    "import re #regular expression\n",
    "import konlpy #형태소분석기\n",
    "import numpy as np #계산\n",
    "from glob import glob \n",
    "import os.path as path\n",
    "from scipy.sparse import csr_matrix\n",
    "\n",
    "seed = 1234"
   ]
  },
  {
   "cell_type": "code",
   "execution_count": 2,
   "metadata": {
    "collapsed": false
   },
   "outputs": [
    {
     "name": "stdout",
     "output_type": "stream",
     "text": [
      "# of anger : 4406\n",
      "# of fear : 769\n",
      "# of surprise : 1219\n",
      "# of disgust : 1485\n",
      "# of happiness : 1434\n",
      "x_text 9313\n",
      "y 9313\n",
      "Vocabulary Size: 8890\n",
      "Train/Dev split: 7917/1396\n"
     ]
    }
   ],
   "source": [
    "import data_helpers\n",
    "# emo_class = \"anger,happiness,disgust,surprise,fear,sadness\".split(',')\n",
    "emo_class = \"anger,fear,surprise,disgust,happiness\".split(',') #4개로 바꿔야\n",
    "morph = True\n",
    "\n",
    "x_text, x_orig, y = data_helpers.load_data_and_labels2(emo_class=emo_class, _morph=morph)\n",
    "vocab_processor, x_train, y_train, x_dev, y_dev, x_train_text, x_dev_text, x_train_text_orig, x_dev_text_orig = data_helpers.make_voca_and_train_dev(x_text,x_orig, y)"
   ]
  },
  {
   "cell_type": "code",
   "execution_count": 3,
   "metadata": {
    "collapsed": true
   },
   "outputs": [],
   "source": [
    "max_document_length = max([len(x.split(\" \")) for x in x_text])"
   ]
  },
  {
   "cell_type": "code",
   "execution_count": 4,
   "metadata": {
    "collapsed": false
   },
   "outputs": [
    {
     "name": "stdout",
     "output_type": "stream",
     "text": [
      "epoch :          0, accuracy : 0.47569\n",
      "epoch :          5, accuracy : 0.47569\n",
      "epoch :         10, accuracy : 0.47569\n",
      "epoch :         15, accuracy : 0.47569\n",
      "epoch :         20, accuracy : 0.47569\n",
      "epoch :         25, accuracy : 0.47569\n",
      "epoch :         30, accuracy : 0.47569\n",
      "epoch :         35, accuracy : 0.47569\n",
      "epoch :         40, accuracy : 0.47569\n",
      "epoch :         45, accuracy : 0.47569\n",
      "epoch :         50, accuracy : 0.47569\n",
      "epoch :         55, accuracy : 0.47569\n",
      "epoch :         60, accuracy : 0.47569\n",
      "epoch :         65, accuracy : 0.47569\n",
      "epoch :         70, accuracy : 0.47569\n",
      "epoch :         75, accuracy : 0.47569\n",
      "epoch :         80, accuracy : 0.47569\n",
      "epoch :         85, accuracy : 0.47569\n",
      "epoch :         90, accuracy : 0.47569\n",
      "epoch :         95, accuracy : 0.47569\n"
     ]
    }
   ],
   "source": [
    "import tensorflow as tf\n",
    "\n",
    "\n",
    "acs = []\n",
    "with tf.Session() as sess:\n",
    "    X = tf.placeholder(dtype=tf.float32, shape=[None, max_document_length])\n",
    "    Y = tf.placeholder(dtype=tf.float32, shape=[None, len(emo_class)])\n",
    "    W = tf.Variable(tf.random_uniform([max_document_length, len(emo_class)]))\n",
    "    b = tf.Variable(tf.random_uniform([len(emo_class)]))\n",
    "\n",
    "    r = tf.nn.softmax(tf.nn.relu(tf.matmul(X, W) + b))\n",
    "    cross_entropy = tf.reduce_mean(-tf.reduce_sum(Y * tf.log(r), reduction_indices=[1]))\n",
    "\n",
    "    learning_rate = 10\n",
    "    \n",
    "    #식 정의(박스안) 객체생성(tf와 통신)\n",
    "    optimizer = tf.train.AdamOptimizer(learning_rate).minimize(cross_entropy)\n",
    "    \n",
    "    #test\n",
    "    correct_prediction = tf.equal(tf.argmax(Y, 1), tf.argmax(r, 1)) #제일높은것의 index 각 문장마다\n",
    "    accuracy = tf.reduce_mean(tf.cast(correct_prediction, tf.float32)) #평균 boolean->float\n",
    "\n",
    "    sess.run(tf.global_variables_initializer())\n",
    "    \n",
    "    \n",
    "    \n",
    "    \n",
    "    \n",
    "    #\n",
    "    \n",
    "   \n",
    "    #\n",
    "    \n",
    "    \n",
    "    \n",
    "    \n",
    "    \n",
    "    #학습 수행\n",
    "    for epoch in range(100):\n",
    "        # train\n",
    "        sess.run(optimizer, feed_dict={X:x_train, Y:y_train})\n",
    "        if not epoch % 5:\n",
    "            acc = sess.run(accuracy, feed_dict={X:x_dev, Y:y_dev}) #test\n",
    "            print('epoch : %10d, accuracy : %.5f' % (epoch, acc))\n",
    "            acs.append((epoch, acc))"
   ]
  },
  {
   "cell_type": "code",
   "execution_count": 5,
   "metadata": {
    "collapsed": false
   },
   "outputs": [
    {
     "data": {
      "image/png": "[encoded data removed]",
      "text/plain": [
       "<matplotlib.figure.Figure at 0x1d2a128668>"
      ]
     },
     "metadata": {},
     "output_type": "display_data"
    }
   ],
   "source": [
    "%matplotlib inline\n",
    "import matplotlib.pyplot as plt\n",
    "acs = np.array(acs)\n",
    "plt.ylim([0, 0.5]) #y:0~0.5\n",
    "plt.plot(acs[:, 0], acs[:, 1], label='Accuracy')\n",
    "plt.legend() #도표 설명\n",
    "plt.show() #그래픽 표현을 만들기 위해\n"
   ]
  }
 ],
 "metadata": {
  "anaconda-cloud": {},
  "kernelspec": {
   "display_name": "Python [default]",
   "language": "python",
   "name": "python3"
  },
  "language_info": {
   "codemirror_mode": {
    "name": "ipython",
    "version": 3
   },
   "file_extension": ".py",
   "mimetype": "text/x-python",
   "name": "python",
   "nbconvert_exporter": "python",
   "pygments_lexer": "ipython3",
   "version": "3.5.2"
  }
 },
 "nbformat": 4,
 "nbformat_minor": 0
}
