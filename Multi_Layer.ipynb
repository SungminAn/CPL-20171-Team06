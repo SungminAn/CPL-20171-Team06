{
 "cells": [
  {
   "cell_type": "markdown",
   "metadata": {},
   "source": [
    "# RNN 기반 텍스트 분류 "
   ]
  },
  {
   "cell_type": "code",
   "execution_count": 1,
   "metadata": {
    "collapsed": false
   },
   "outputs": [],
   "source": [
    "#-*- coding: utf-8 -*-\n",
    "import re\n",
    "import konlpy\n",
    "import numpy as np\n",
    "from glob import glob \n",
    "import os.path as path\n",
    "from scipy.sparse import csr_matrix\n",
    "\n",
    "seed = 1234"
   ]
  },
  {
   "cell_type": "code",
   "execution_count": 2,
   "metadata": {
    "collapsed": false
   },
   "outputs": [
    {
     "name": "stdout",
     "output_type": "stream",
     "text": [
      "# of contempt : 5889\n",
      "# of happiness : 1434\n",
      "# of awo : 1987\n",
      "# of sadness : 2004\n",
      "x_text 11314\n",
      "y 11314\n",
      "Vocabulary Size: 9841\n",
      "Train/Dev split: 9617/1697\n"
     ]
    }
   ],
   "source": [
    "import data_helpers\n",
    "emo_class = \"contempt,happiness,awo,sadness\".split(',')\n",
    "# emo_class = \"anger,happiness\".split(',')\n",
    "morph = True\n",
    "\n",
    "x_text, x_orig, y = data_helpers.load_data_and_labels2(emo_class=emo_class, _morph=morph)\n",
    "vocab_processor, x_train, y_train, x_dev, y_dev, x_train_text, x_dev_text, x_train_text_orig, x_dev_text_orig = data_helpers.make_voca_and_train_dev(x_text,x_orig, y)"
   ]
  },
  {
   "cell_type": "code",
   "execution_count": 3,
   "metadata": {
    "collapsed": false
   },
   "outputs": [],
   "source": [
    "max_document_length = max([len(x.split(\" \")) for x in x_text])"
   ]
  },
  {
   "cell_type": "code",
   "execution_count": 4,
   "metadata": {
    "collapsed": false,
    "scrolled": false
   },
   "outputs": [
    {
     "name": "stdout",
     "output_type": "stream",
     "text": [
      "epoch :          0, accuracy : 0.14143\n",
      "epoch :        100, accuracy : 0.48026\n",
      "epoch :        200, accuracy : 0.41367\n",
      "epoch :        300, accuracy : 0.48321\n",
      "epoch :        400, accuracy : 0.51031\n",
      "epoch :        500, accuracy : 0.51149\n",
      "epoch :        600, accuracy : 0.51444\n",
      "epoch :        700, accuracy : 0.51621\n",
      "epoch :        800, accuracy : 0.51738\n",
      "epoch :        900, accuracy : 0.51738\n",
      "epoch :       1000, accuracy : 0.51679\n"
     ]
    }
   ],
   "source": [
    "import tensorflow as tf\n",
    "\n",
    "\n",
    "acs = []\n",
    "with tf.Session() as sess:\n",
    "    X = tf.placeholder(dtype=tf.float32, shape=[None, max_document_length])\n",
    "    Y = tf.placeholder(dtype=tf.float32, shape=[None, len(emo_class)])\n",
    "    \n",
    "    # layer 1\n",
    "    W1 = tf.Variable(tf.random_uniform([max_document_length, 100]))\n",
    "    b1 = tf.Variable(tf.random_uniform([100]))\n",
    "    r1 = tf.nn.relu(tf.matmul(X, W1) + b1)\n",
    "    \n",
    "    keep_prob = tf.placeholder(\"float\")\n",
    "    r1_drop = tf.nn.dropout(r1, keep_prob)\n",
    "    \n",
    "    # layer 2\n",
    "    W2 = tf.Variable(tf.random_uniform([100, 50]))\n",
    "    b2 = tf.Variable(tf.random_uniform([50]))\n",
    "    r2 = tf.nn.relu(tf.matmul(r1_drop, W2) + b2)\n",
    "    \n",
    "    r2_drop = tf.nn.dropout(r2, keep_prob)\n",
    "\n",
    "    # layer 3\n",
    "    W3 = tf.Variable(tf.random_uniform([50, len(emo_class)]))\n",
    "    b3 = tf.Variable(tf.random_uniform([len(emo_class)]))\n",
    "    r3 = tf.nn.relu(tf.matmul(r2_drop, W3) + b3)\n",
    "    \n",
    "    cost = tf.reduce_mean(tf.nn.softmax_cross_entropy_with_logits(logits=r3, labels=Y))\n",
    "#     cross_entropy = tf.reduce_mean(-tf.reduce_sum(Y * tf.log(r2), reduction_indices=[1]))\n",
    "\n",
    "    learning_rate = 0.01\n",
    "    \n",
    "    #train\n",
    "    optimizer = tf.train.AdamOptimizer(learning_rate).minimize(cost)\n",
    "    \n",
    "    #test\n",
    "    correct_prediction = tf.equal(tf.argmax(Y, 1), tf.argmax(r3, 1))\n",
    "    accuracy = tf.reduce_mean(tf.cast(correct_prediction, tf.float32))\n",
    "\n",
    "    sess.run(tf.global_variables_initializer())\n",
    "    \n",
    "    \n",
    "    for epoch in range(1001):\n",
    "        # train\n",
    "        sess.run(optimizer, feed_dict={X:x_train, Y:y_train, keep_prob:0.5})\n",
    "        if not epoch % 100:\n",
    "            acc = sess.run(accuracy, feed_dict={X:x_dev, Y:y_dev, keep_prob:1.0})\n",
    "            print('epoch : %10d, accuracy : %.5f' % (epoch, acc))\n",
    "            acs.append((epoch, acc))"
   ]
  },
  {
   "cell_type": "code",
   "execution_count": 5,
   "metadata": {
    "collapsed": false
   },
   "outputs": [
    {
     "data": {
      "image/png": "[encoded data removed]",
      "text/plain": [
       "<matplotlib.figure.Figure at 0x39e94976d8>"
      ]
     },
     "metadata": {},
     "output_type": "display_data"
    }
   ],
   "source": [
    "%matplotlib inline\n",
    "import matplotlib.pyplot as plt\n",
    "acs = np.array(acs)\n",
    "plt.plot(acs[:, 0], acs[:, 1], label='Accuracy')\n",
    "plt.legend()\n",
    "plt.show()"
   ]
  }
 ],
 "metadata": {
  "anaconda-cloud": {},
  "kernelspec": {
   "display_name": "Python [default]",
   "language": "python",
   "name": "python3"
  },
  "language_info": {
   "codemirror_mode": {
    "name": "ipython",
    "version": 3
   },
   "file_extension": ".py",
   "mimetype": "text/x-python",
   "name": "python",
   "nbconvert_exporter": "python",
   "pygments_lexer": "ipython3",
   "version": "3.5.2"
  }
 },
 "nbformat": 4,
 "nbformat_minor": 0
}
